{
 "cells": [
  {
   "cell_type": "code",
   "execution_count": 3,
   "id": "6d3614ec-a14c-43dd-957c-29ec0ec903af",
   "metadata": {},
   "outputs": [],
   "source": [
    "import pandas as pd\n",
    "import os\n",
    "import ipywidgets as widgets\n",
    "from IPython.display import display, HTML\n",
    "from ipyaggrid import Grid\n",
    "import requests"
   ]
  },
  {
   "cell_type": "code",
   "execution_count": 4,
   "id": "bec7c3de-8f38-4ed1-ade8-7f8010e9ea61",
   "metadata": {},
   "outputs": [],
   "source": [
    "def download_from_gdrive(file_id, destination):\n",
    "    if not os.path.exists(destination):\n",
    "        print(\"⬇️ Descargando dataset desde Google Drive...\")\n",
    "        url = f\"https://drive.google.com/uc?export=download&id={file_id}\"\n",
    "        response = requests.get(url, allow_redirects=True)\n",
    "        if response.status_code == 200:\n",
    "            os.makedirs(os.path.dirname(destination), exist_ok=True)\n",
    "            with open(destination, \"wb\") as f:\n",
    "                f.write(response.content)\n",
    "            print(\"✅ Dataset descargado.\")\n",
    "        else:\n",
    "            print(f\"❌ Error al descargar el dataset: código {response.status_code}\")\n",
    "    else:\n",
    "        print(\"✅ Dataset ya está disponible localmente.\")"
   ]
  },
  {
   "cell_type": "code",
   "execution_count": 5,
   "id": "b0d572d6-168f-4aa9-b8f0-72e4be69e192",
   "metadata": {},
   "outputs": [
    {
     "name": "stdout",
     "output_type": "stream",
     "text": [
      "⬇️ Descargando dataset desde Google Drive...\n",
      "✅ Dataset descargado.\n"
     ]
    }
   ],
   "source": [
    "# Parámetros\n",
    "file_id = \"1qU_C6I-93FIAn1XYjNeGxTBJAeyaQpRE\"\n",
    "local_file = \"data/dataset.csv\"\n",
    "\n",
    "download_from_gdrive(file_id, local_file)"
   ]
  },
  {
   "cell_type": "code",
   "execution_count": 6,
   "id": "04438794-f5a2-497c-866c-a80e8674c106",
   "metadata": {},
   "outputs": [],
   "source": [
    "# Opciones para mostrar más filas y columnas\n",
    "pd.set_option('display.max_rows', 100)\n",
    "pd.set_option('display.max_columns', 50)"
   ]
  },
  {
   "cell_type": "code",
   "execution_count": 7,
   "id": "41fa76a5-c345-43ef-b9ae-670c1ba6fe91",
   "metadata": {},
   "outputs": [],
   "source": [
    "data_respuestas_completa  = pd.read_csv('tablas_preguntas_concatenado.csv')"
   ]
  },
  {
   "cell_type": "code",
   "execution_count": 8,
   "id": "c3d6d920-f33a-4af1-8545-4355fdae31b0",
   "metadata": {},
   "outputs": [],
   "source": [
    "data_respuestas_completa['IDTIPODEMANDA1'] = data_respuestas_completa['IDTIPODEMANDA1'].astype(str)"
   ]
  },
  {
   "cell_type": "code",
   "execution_count": 9,
   "id": "b130e9e1-6656-4949-9bd7-9634e9be2d11",
   "metadata": {},
   "outputs": [],
   "source": [
    "# Widget para seleccionar DEMANDAPK\n",
    "id_selector = widgets.Dropdown(\n",
    "    options=sorted(data_respuestas_completa['IDTIPODEMANDA1'].unique()),\n",
    "    description='IDTIPODEMANDA1:',\n",
    "    style={'description_width': 'initial'},\n",
    "    layout=widgets.Layout(width='50%')\n",
    ")\n",
    "\n",
    "output = widgets.Output()"
   ]
  },
  {
   "cell_type": "code",
   "execution_count": 10,
   "id": "e1f3817b-8432-4ad5-b32d-a5e6ad5753f5",
   "metadata": {},
   "outputs": [
    {
     "data": {
      "application/vnd.jupyter.widget-view+json": {
       "model_id": "5289008aadcc4e069796472217a770f6",
       "version_major": 2,
       "version_minor": 0
      },
      "text/plain": [
       "Dropdown(description='IDTIPODEMANDA1:', layout=Layout(width='50%'), options=('16', '23', '36', '54', '58'), st…"
      ]
     },
     "metadata": {},
     "output_type": "display_data"
    },
    {
     "data": {
      "application/vnd.jupyter.widget-view+json": {
       "model_id": "88647f0aac96419b8965a2ad42232256",
       "version_major": 2,
       "version_minor": 0
      },
      "text/plain": [
       "Output()"
      ]
     },
     "metadata": {},
     "output_type": "display_data"
    }
   ],
   "source": [
    "# Función para mostrar la tabla con scroll y muchas filas\n",
    "def mostrar_conversacion(id_tipo):\n",
    "    with output:\n",
    "        output.clear_output(wait=True)\n",
    "        filtrado = data_respuestas_completa[\n",
    "            data_respuestas_completa['IDTIPODEMANDA1'] == id_tipo\n",
    "        ][['ORDEN_PREGUNTA','PREGUNTA', 'RESPUESTA', 'FECHA_HORA']].reset_index(drop=True)\n",
    "\n",
    "        # Convertir DataFrame a HTML y ponerlo en un contenedor con scroll\n",
    "        html = filtrado.to_html(max_rows=1000, max_cols=50, escape=False)\n",
    "        styled_html = f\"\"\"\n",
    "        <div style=\"overflow-y: auto; max-height: 500px; border: 1px solid #ccc; padding: 10px;\">\n",
    "            {html}\n",
    "        </div>\n",
    "        \"\"\"\n",
    "        display(HTML(styled_html))\n",
    "\n",
    "# Mostrar selector y output juntos\n",
    "display(id_selector, output)\n",
    "\n",
    "# Conectar cambios del selector con la función\n",
    "id_selector.observe(lambda change: mostrar_conversacion(change['new']), names='value')\n",
    "\n",
    "# Mostrar datos iniciales\n",
    "mostrar_conversacion(id_selector.value)\n"
   ]
  },
  {
   "cell_type": "code",
   "execution_count": null,
   "id": "f8dc65a0-af6d-4ab5-bccd-01a9c266f2d8",
   "metadata": {},
   "outputs": [],
   "source": []
  },
  {
   "cell_type": "code",
   "execution_count": null,
   "id": "445bdcc2-216e-4aff-a60b-c74f027a4edc",
   "metadata": {},
   "outputs": [],
   "source": []
  }
 ],
 "metadata": {
  "kernelspec": {
   "display_name": "FPS_GPU_tensorflow",
   "language": "python",
   "name": "tf_env"
  },
  "language_info": {
   "codemirror_mode": {
    "name": "ipython",
    "version": 3
   },
   "file_extension": ".py",
   "mimetype": "text/x-python",
   "name": "python",
   "nbconvert_exporter": "python",
   "pygments_lexer": "ipython3",
   "version": "3.11.11"
  }
 },
 "nbformat": 4,
 "nbformat_minor": 5
}
