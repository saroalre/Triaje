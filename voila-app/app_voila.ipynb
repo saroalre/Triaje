{
  "cells": [
    {
      "cell_type": "code",
      "execution_count": 19,
      "id": "6d3614ec-a14c-43dd-957c-29ec0ec903af",
      "metadata": {
        "id": "6d3614ec-a14c-43dd-957c-29ec0ec903af"
      },
      "outputs": [],
      "source": [
        "import pandas as pd\n",
        "import os\n",
        "import ipywidgets as widgets\n",
        "from IPython.display import display, HTML\n",
        "from ipyaggrid import Grid\n",
        "import requests"
      ]
    },
    {
      "cell_type": "code",
      "execution_count": 20,
      "id": "41fa76a5-c345-43ef-b9ae-670c1ba6fe91",
      "metadata": {
        "id": "41fa76a5-c345-43ef-b9ae-670c1ba6fe91"
      },
      "outputs": [],
      "source": [
        "data_respuestas_completa  = pd.read_csv(\"datos_reducido.csv.gz\", compression='gzip')"
      ]
    },
    {
      "cell_type": "code",
      "execution_count": 16,
      "id": "c3d6d920-f33a-4af1-8545-4355fdae31b0",
      "metadata": {
        "id": "c3d6d920-f33a-4af1-8545-4355fdae31b0"
      },
      "outputs": [],
      "source": [
        "data_respuestas_completa['IDTIPODEMANDA1'] = data_respuestas_completa['IDTIPODEMANDA1'].astype(str)"
      ]
    },
    {
      "cell_type": "code",
      "execution_count": null,
      "id": "b130e9e1-6656-4949-9bd7-9634e9be2d11",
      "metadata": {
        "id": "b130e9e1-6656-4949-9bd7-9634e9be2d11"
      },
      "outputs": [],
      "source": [
        "# Widget para seleccionar DEMANDAPK\n",
        "id_selector = widgets.Dropdown(\n",
        "    options=sorted(data_respuestas_completa['IDTIPODEMANDA1'].unique()),\n",
        "    description='IDTIPODEMANDA1:',\n",
        "    style={'description_width': 'initial'},\n",
        "    layout=widgets.Layout(width='50%')\n",
        ")\n",
        "\n",
        "output = widgets.Output()"
      ]
    },
    {
      "cell_type": "code",
      "execution_count": null,
      "id": "e1f3817b-8432-4ad5-b32d-a5e6ad5753f5",
      "metadata": {
        "colab": {
          "referenced_widgets": [
            "5289008aadcc4e069796472217a770f6",
            "88647f0aac96419b8965a2ad42232256"
          ]
        },
        "id": "e1f3817b-8432-4ad5-b32d-a5e6ad5753f5",
        "outputId": "f6f3ade1-927f-4080-b379-8a907550fb0d"
      },
      "outputs": [
        {
          "data": {
            "application/vnd.jupyter.widget-view+json": {
              "model_id": "5289008aadcc4e069796472217a770f6",
              "version_major": 2,
              "version_minor": 0
            },
            "text/plain": [
              "Dropdown(description='IDTIPODEMANDA1:', layout=Layout(width='50%'), options=('16', '23', '36', '54', '58'), st…"
            ]
          },
          "metadata": {},
          "output_type": "display_data"
        },
        {
          "data": {
            "application/vnd.jupyter.widget-view+json": {
              "model_id": "88647f0aac96419b8965a2ad42232256",
              "version_major": 2,
              "version_minor": 0
            },
            "text/plain": [
              "Output()"
            ]
          },
          "metadata": {},
          "output_type": "display_data"
        }
      ],
      "source": [
        "# Función para mostrar la tabla con scroll y muchas filas\n",
        "def mostrar_conversacion(id_tipo):\n",
        "    with output:\n",
        "        output.clear_output(wait=True)\n",
        "        filtrado = data_respuestas_completa[\n",
        "            data_respuestas_completa['IDTIPODEMANDA1'] == id_tipo\n",
        "        ][['ORDEN_PREGUNTA','PREGUNTA', 'RESPUESTA', 'FECHA_HORA']].reset_index(drop=True)\n",
        "\n",
        "        # Convertir DataFrame a HTML y ponerlo en un contenedor con scroll\n",
        "        html = filtrado.to_html(max_rows=1000, max_cols=50, escape=False)\n",
        "        styled_html = f\"\"\"\n",
        "        <div style=\"overflow-y: auto; max-height: 500px; border: 1px solid #ccc; padding: 10px;\">\n",
        "            {html}\n",
        "        </div>\n",
        "        \"\"\"\n",
        "        display(HTML(styled_html))\n",
        "\n",
        "# Mostrar selector y output juntos\n",
        "display(id_selector, output)\n",
        "\n",
        "# Conectar cambios del selector con la función\n",
        "id_selector.observe(lambda change: mostrar_conversacion(change['new']), names='value')\n",
        "\n",
        "# Mostrar datos iniciales\n",
        "mostrar_conversacion(id_selector.value)\n"
      ]
    },
    {
      "cell_type": "code",
      "execution_count": null,
      "id": "f8dc65a0-af6d-4ab5-bccd-01a9c266f2d8",
      "metadata": {
        "id": "f8dc65a0-af6d-4ab5-bccd-01a9c266f2d8"
      },
      "outputs": [],
      "source": []
    },
    {
      "cell_type": "code",
      "execution_count": null,
      "id": "445bdcc2-216e-4aff-a60b-c74f027a4edc",
      "metadata": {
        "id": "445bdcc2-216e-4aff-a60b-c74f027a4edc"
      },
      "outputs": [],
      "source": []
    }
  ],
  "metadata": {
    "kernelspec": {
      "display_name": "FPS_GPU_tensorflow",
      "language": "python",
      "name": "tf_env"
    },
    "language_info": {
      "codemirror_mode": {
        "name": "ipython",
        "version": 3
      },
      "file_extension": ".py",
      "mimetype": "text/x-python",
      "name": "python",
      "nbconvert_exporter": "python",
      "pygments_lexer": "ipython3",
      "version": "3.11.11"
    },
    "colab": {
      "provenance": [],
      "toc_visible": true
    }
  },
  "nbformat": 4,
  "nbformat_minor": 5
}