{
 "cells": [
  {
   "cell_type": "code",
   "execution_count": null,
   "metadata": {},
   "outputs": [],
   "source": [
    "import os\n",
    "import requests\n",
    "\n",
    "def download_from_gdrive(file_id, destination):\n",
    "    if not os.path.exists(destination):\n",
    "        print(\"⬇️ Descargando dataset desde Google Drive...\")\n",
    "        url = f\"https://drive.google.com/uc?export=download&id={file_id}\"\n",
    "        response = requests.get(url, allow_redirects=True)\n",
    "        if response.status_code == 200:\n",
    "            os.makedirs(os.path.dirname(destination), exist_ok=True)\n",
    "            with open(destination, \\"wb\\") as f:\n",
    "                f.write(response.content)\n",
    "            print(\"✅ Dataset descargado.\")\n",
    "        else:\n",
    "            print(f\"❌ Error al descargar el dataset: código {response.status_code}\")\n",
    "    else:\n",
    "        print(\"✅ Dataset ya está disponible localmente.\")\n",
    "\n",
    "file_id = \"1qU_C6I-93FIAn1XYjNeGxTBJAeyaQpRE\"\n",
    "local_file = \"data/dataset.csv\"\n",
    "download_from_gdrive(file_id, local_file)"
   ]
  }
 ],
 "metadata": {
  "kernelspec": {
   "display_name": "Python 3",
   "language": "python",
   "name": "python3"
  },
  "language_info": {
   "name": "python",
   "version": ""
  }
 },
 "nbformat": 4,
 "nbformat_minor": 2
}